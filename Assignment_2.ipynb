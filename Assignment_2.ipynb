{
 "cells": [
  {
   "cell_type": "markdown",
   "metadata": {},
   "source": [
    "<h3>Q no 1:  Write a python program to find number of occurrences of given number in a list with out using built-in methods</h3>\n",
    "<h4>**1 generate a list of some random num which is repeated again and again</h4>\n",
    "<h4>**2 take user input any number</h4>\n",
    "<h4>**3 find the number of occurrences of that num in your list</h4>\n",
    "<h4>**4 print some message to user with that result</h4>"
   ]
  },
  {
   "cell_type": "code",
   "execution_count": 52,
   "metadata": {},
   "outputs": [
    {
     "name": "stdout",
     "output_type": "stream",
     "text": [
      "[7, 7, 5, 5, 6, 2, 4, 6, 1, 6]\n",
      "100\n"
     ]
    }
   ],
   "source": [
    "import random\n",
    "list = []\n",
    "for loop in range(100):\n",
    "    list.append(random.randint(0, 9))\n",
    "print(list[:10])\n",
    "listLength = len(list)\n",
    "print(listLength)\n"
   ]
  },
  {
   "cell_type": "code",
   "execution_count": 66,
   "metadata": {},
   "outputs": [
    {
     "name": "stdout",
     "output_type": "stream",
     "text": [
      "Enter a number: 7\n",
      "Indexes found are: [0, 1, 37, 45, 47, 55, 75]\n"
     ]
    }
   ],
   "source": [
    "userInput = eval(input(\"Enter a number: \"))\n",
    "loop = 0\n",
    "foundIndexes = []\n",
    "for element in list:\n",
    "    if (userInput in list[loop:listLength+1]):        \n",
    "        index = list.index(userInput, loop, listLength+1)\n",
    "        loop = index\n",
    "        foundIndexes.append(index)\n",
    "    loop += 1\n",
    "\n",
    "if (len(foundIndexes) <= 0):\n",
    "    print(\"Input not found in the generated list\")\n",
    "else:\n",
    "    print(f\"Indexes found are: {foundIndexes}\")\n",
    "\n",
    "    \n"
   ]
  },
  {
   "cell_type": "markdown",
   "metadata": {},
   "source": [
    "<h3>Q no 2:   [\"www.zframez.com\", \"www.wikipedia.org\", \"www.asp.net\", \"www.abcd.in\"]\n",
    "<br/><br/><br/><br/><br/>\n",
    "Write a python program to print website suffixes (com , org , net ,in) from this list\n",
    "</h3>"
   ]
  },
  {
   "cell_type": "code",
   "execution_count": 67,
   "metadata": {},
   "outputs": [],
   "source": [
    "websites = [\"www.zframez.com\", \"www.wikipedia.org\", \"www.asp.net\", \"www.abcd.in\"] "
   ]
  },
  {
   "cell_type": "code",
   "execution_count": 74,
   "metadata": {},
   "outputs": [
    {
     "name": "stdout",
     "output_type": "stream",
     "text": [
      "com\n",
      "org\n",
      "net\n",
      "in\n"
     ]
    }
   ],
   "source": [
    "for website in websites:\n",
    "    print(website.split(\".\")[2])"
   ]
  },
  {
   "cell_type": "markdown",
   "metadata": {},
   "source": [
    "<h3> Q no 3 : Write a program which can compute the factorial of a given numbers.</h3>\n",
    "<br/>\n",
    "<br/>\n",
    "<h4>**1 first take user input any number</h4>\n",
    "<h4>**2 calculate factorial of that input and then print the result to user</h4>"
   ]
  },
  {
   "cell_type": "code",
   "execution_count": 75,
   "metadata": {},
   "outputs": [],
   "source": [
    "import numpy as np"
   ]
  },
  {
   "cell_type": "code",
   "execution_count": 85,
   "metadata": {},
   "outputs": [
    {
     "name": "stdout",
     "output_type": "stream",
     "text": [
      "Please provide input for factorial: 12\n"
     ]
    }
   ],
   "source": [
    "factorialInput = eval(input(\"Please provide input for factorial: \"))"
   ]
  },
  {
   "cell_type": "code",
   "execution_count": 86,
   "metadata": {},
   "outputs": [
    {
     "name": "stdout",
     "output_type": "stream",
     "text": [
      "factorial for 12 is: 479001600\n"
     ]
    }
   ],
   "source": [
    "factorial = np.math.factorial(factorialInput)\n",
    "print(f\"factorial for {factorialInput} is: {factorial}\")"
   ]
  },
  {
   "cell_type": "code",
   "execution_count": null,
   "metadata": {},
   "outputs": [],
   "source": []
  },
  {
   "cell_type": "markdown",
   "metadata": {},
   "source": [
    "<h3>Q 4 (a) :  If you could invite anyone, living or deceased, to dinner, who\n",
    "would you invite? Make a list that includes at least three people you’d like to\n",
    "invite to dinner. Then use your list to print a message to each person, inviting\n",
    "them to dinner.</h3>"
   ]
  },
  {
   "cell_type": "code",
   "execution_count": 88,
   "metadata": {},
   "outputs": [],
   "source": [
    "invitees = [\"Nafis Alam\", \"Imran Khan\", \"Nikola Tesla\", \"Dr. Abdula Qadir Khan\"]"
   ]
  },
  {
   "cell_type": "code",
   "execution_count": 89,
   "metadata": {},
   "outputs": [
    {
     "name": "stdout",
     "output_type": "stream",
     "text": [
      "Dear Nafis Alam, please join me for dinner tonight\n",
      "Dear Imran Khan, please join me for dinner tonight\n",
      "Dear Nikola Tesla, please join me for dinner tonight\n",
      "Dear Dr. Abdula Qadir Khan, please join me for dinner tonight\n"
     ]
    }
   ],
   "source": [
    "for invitee in invitees:\n",
    "    print(f\"Dear {invitee}, please join me for dinner tonight\")"
   ]
  },
  {
   "cell_type": "code",
   "execution_count": null,
   "metadata": {},
   "outputs": [],
   "source": []
  },
  {
   "cell_type": "markdown",
   "metadata": {},
   "source": [
    "<h3>Q 4 (b) : You just heard that one of your guests can’t make the\n",
    "dinner, so you need to send out a new set of invitations. You’ll have to think of\n",
    "someone else to invite.<br/></br><br/>\n",
    "•\t Start with your program from Q 4 (a). Add a print statement at the\n",
    "end of your program stating the name of the guest who can’t make it.<br/></br><br/>\n",
    "•\t Modify your list, replacing the name of the guest who can’t make it with\n",
    "the name of the new person you are inviting.<br/></br><br/>\n",
    "•\t Print a second set of invitation messages, one for each person who is still\n",
    "in your list.<br/></br><br/></h3>"
   ]
  },
  {
   "cell_type": "code",
   "execution_count": 90,
   "metadata": {},
   "outputs": [
    {
     "name": "stdout",
     "output_type": "stream",
     "text": [
      "Cutting Imran Khan from list\n"
     ]
    }
   ],
   "source": [
    "print(f\"Cutting {invitees[1]} from list\")"
   ]
  },
  {
   "cell_type": "code",
   "execution_count": 91,
   "metadata": {},
   "outputs": [],
   "source": [
    "invitees[1] = \"Gary Kasprov\""
   ]
  },
  {
   "cell_type": "code",
   "execution_count": 92,
   "metadata": {},
   "outputs": [
    {
     "name": "stdout",
     "output_type": "stream",
     "text": [
      "Dear Nafis Alam, please join me for dinner tonight\n",
      "Dear Gary Kasprov, please join me for dinner tonight\n",
      "Dear Nikola Tesla, please join me for dinner tonight\n",
      "Dear Dr. Abdula Qadir Khan, please join me for dinner tonight\n"
     ]
    }
   ],
   "source": [
    "for invitee in invitees:\n",
    "    print(f\"Dear {invitee}, please join me for dinner tonight\")"
   ]
  },
  {
   "cell_type": "markdown",
   "metadata": {},
   "source": [
    "<h3>Q 4 (c) : You just found a bigger dinner table, so now more space is\n",
    "available. Think of three more guests to invite to dinner.<br/></br><br/>\n",
    "•\t Start with your program from Q 4 (a) and (b) Add a print\n",
    "statement to the end of your program informing people that you found a\n",
    "bigger dinner table.<br/></br><br/>\n",
    "•\t Use insert() to add one new guest to the beginning of your list.<br/></br><br/>\n",
    "•\t Use insert() to add one new guest to the middle of your list.<br/></br><br/>\n",
    "•\t Use append() to add one new guest to the end of your list.<br/></br><br/>\n",
    "•\t Print a new set of invitation messages, one for each person in your list.<br/></br><br/></h3>"
   ]
  },
  {
   "cell_type": "code",
   "execution_count": 94,
   "metadata": {},
   "outputs": [
    {
     "name": "stdout",
     "output_type": "stream",
     "text": [
      "Found a bigger table, inviting more peoples\n"
     ]
    }
   ],
   "source": [
    "print(\"Found a bigger table, inviting more peoples\")"
   ]
  },
  {
   "cell_type": "code",
   "execution_count": 95,
   "metadata": {},
   "outputs": [],
   "source": [
    "invitees.insert(0, \"Muhammad Ali Jinnah\")\n",
    "invitees.insert(2, \"Zia Khan\")\n",
    "invitees.append(\"Arnold Schewarzeneggar\")"
   ]
  },
  {
   "cell_type": "code",
   "execution_count": 96,
   "metadata": {},
   "outputs": [
    {
     "name": "stdout",
     "output_type": "stream",
     "text": [
      "Dear Muhammad Ali Jinnah, please join me for dinner tonight\n",
      "Dear Nafis Alam, please join me for dinner tonight\n",
      "Dear Zia Khan, please join me for dinner tonight\n",
      "Dear Gary Kasprov, please join me for dinner tonight\n",
      "Dear Nikola Tesla, please join me for dinner tonight\n",
      "Dear Dr. Abdula Qadir Khan, please join me for dinner tonight\n",
      "Dear Arnold Schewarzeneggar, please join me for dinner tonight\n"
     ]
    }
   ],
   "source": [
    "for invitee in invitees:\n",
    "    print(f\"Dear {invitee}, please join me for dinner tonight\")"
   ]
  },
  {
   "cell_type": "markdown",
   "metadata": {},
   "source": [
    "<h5> Q 5 : Here you have some data in variable below, your task is to make a list of specific word Surah then print the list and length of list</h5>\n"
   ]
  },
  {
   "cell_type": "code",
   "execution_count": 1,
   "metadata": {},
   "outputs": [],
   "source": [
    "data = \"Sura I Who believe in the Unseen, Sura Are steadfast in prayer, And spend Sura out of what We Have provided for them;\"\n"
   ]
  },
  {
   "cell_type": "code",
   "execution_count": 3,
   "metadata": {},
   "outputs": [
    {
     "name": "stdout",
     "output_type": "stream",
     "text": [
      "['Sura', 'Sura', 'Sura']\n",
      "3\n"
     ]
    }
   ],
   "source": [
    "lexicons = data.split(\" \")\n",
    "suraList = []\n",
    "for lexicon in lexicons:\n",
    "    if (lexicon == \"Sura\"):\n",
    "        suraList.append(lexicon)\n",
    "\n",
    "print(suraList)\n",
    "print(len(suraList))\n",
    "    "
   ]
  },
  {
   "cell_type": "code",
   "execution_count": null,
   "metadata": {},
   "outputs": [],
   "source": []
  }
 ],
 "metadata": {
  "kernelspec": {
   "display_name": "Python 3",
   "language": "python",
   "name": "python3"
  },
  "language_info": {
   "codemirror_mode": {
    "name": "ipython",
    "version": 3
   },
   "file_extension": ".py",
   "mimetype": "text/x-python",
   "name": "python",
   "nbconvert_exporter": "python",
   "pygments_lexer": "ipython3",
   "version": "3.6.5"
  }
 },
 "nbformat": 4,
 "nbformat_minor": 2
}
